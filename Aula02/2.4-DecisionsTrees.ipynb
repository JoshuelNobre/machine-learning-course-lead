{
 "cells": [
  {
   "cell_type": "markdown",
   "id": "3a435e36",
   "metadata": {},
   "source": [
    "### Imports"
   ]
  },
  {
   "cell_type": "code",
   "execution_count": 2,
   "id": "c01e35b9",
   "metadata": {},
   "outputs": [],
   "source": [
    "from sklearn.tree import DecisionTreeClassifier, DecisionTreeRegressor\n",
    "from sklearn.datasets import load_boston, load_iris\n",
    "from sklearn.model_selection import train_test_split"
   ]
  },
  {
   "cell_type": "markdown",
   "id": "99476503",
   "metadata": {},
   "source": [
    "### Classificação"
   ]
  },
  {
   "cell_type": "code",
   "execution_count": 3,
   "id": "4ceb0c2a",
   "metadata": {},
   "outputs": [],
   "source": [
    "dt = DecisionTreeClassifier()"
   ]
  },
  {
   "cell_type": "code",
   "execution_count": 4,
   "id": "064e7029",
   "metadata": {},
   "outputs": [],
   "source": [
    "# Carrengando e preparando o dataset\n",
    "X, y = load_iris(return_X_y = True)\n",
    "X_train, X_test, y_train, y_test = train_test_split (X,y)"
   ]
  },
  {
   "cell_type": "code",
   "execution_count": 5,
   "id": "0df010bf",
   "metadata": {},
   "outputs": [
    {
     "data": {
      "text/plain": [
       "DecisionTreeClassifier()"
      ]
     },
     "execution_count": 5,
     "metadata": {},
     "output_type": "execute_result"
    }
   ],
   "source": [
    "dt.fit(X_train, y_train)"
   ]
  },
  {
   "cell_type": "code",
   "execution_count": 6,
   "id": "243e1688",
   "metadata": {},
   "outputs": [
    {
     "data": {
      "text/plain": [
       "0.9210526315789473"
      ]
     },
     "execution_count": 6,
     "metadata": {},
     "output_type": "execute_result"
    }
   ],
   "source": [
    "dt.score(X_test, y_test)     # Número de acertos"
   ]
  },
  {
   "cell_type": "markdown",
   "id": "e9bcb6d0",
   "metadata": {},
   "source": [
    "### Regressão"
   ]
  },
  {
   "cell_type": "code",
   "execution_count": 7,
   "id": "99c5e93e",
   "metadata": {},
   "outputs": [],
   "source": [
    "dt = DecisionTreeRegressor()"
   ]
  },
  {
   "cell_type": "code",
   "execution_count": 8,
   "id": "6c54a0f0",
   "metadata": {},
   "outputs": [],
   "source": [
    "X, y = load_boston(return_X_y = True)"
   ]
  },
  {
   "cell_type": "code",
   "execution_count": 11,
   "id": "f12aeb00",
   "metadata": {},
   "outputs": [],
   "source": [
    "X_train, X_test, y_train, y_test = train_test_split (X,y)"
   ]
  },
  {
   "cell_type": "code",
   "execution_count": 12,
   "id": "9620675c",
   "metadata": {},
   "outputs": [
    {
     "data": {
      "text/plain": [
       "DecisionTreeRegressor()"
      ]
     },
     "execution_count": 12,
     "metadata": {},
     "output_type": "execute_result"
    }
   ],
   "source": [
    "dt.fit(X_train, y_train)"
   ]
  },
  {
   "cell_type": "code",
   "execution_count": 13,
   "id": "ba7a61c2",
   "metadata": {},
   "outputs": [
    {
     "data": {
      "text/plain": [
       "0.8021961026867203"
      ]
     },
     "execution_count": 13,
     "metadata": {},
     "output_type": "execute_result"
    }
   ],
   "source": [
    "dt.score(X_test,y_test) # Número de acertos"
   ]
  },
  {
   "cell_type": "markdown",
   "id": "ae26c490",
   "metadata": {},
   "source": [
    "#### Retreinando implantando regras"
   ]
  },
  {
   "cell_type": "code",
   "execution_count": 14,
   "id": "0eddd3b4",
   "metadata": {},
   "outputs": [],
   "source": [
    "dt = DecisionTreeClassifier(max_depth = 5) #Altura máxima = 5"
   ]
  },
  {
   "cell_type": "code",
   "execution_count": 15,
   "id": "68f63876",
   "metadata": {},
   "outputs": [],
   "source": [
    "X, y = load_iris (return_X_y = True)"
   ]
  },
  {
   "cell_type": "code",
   "execution_count": 16,
   "id": "eebfdbd1",
   "metadata": {},
   "outputs": [],
   "source": [
    "X_train, X_test, y_train, y_test = train_test_split(X,y)"
   ]
  },
  {
   "cell_type": "code",
   "execution_count": 17,
   "id": "bd30a4a6",
   "metadata": {},
   "outputs": [
    {
     "data": {
      "text/plain": [
       "DecisionTreeClassifier(max_depth=5)"
      ]
     },
     "execution_count": 17,
     "metadata": {},
     "output_type": "execute_result"
    }
   ],
   "source": [
    "dt.fit(X_train, y_train)"
   ]
  },
  {
   "cell_type": "code",
   "execution_count": 18,
   "id": "72178d8c",
   "metadata": {},
   "outputs": [
    {
     "data": {
      "text/plain": [
       "0.9736842105263158"
      ]
     },
     "execution_count": 18,
     "metadata": {},
     "output_type": "execute_result"
    }
   ],
   "source": [
    "dt.score (X_test, y_test)"
   ]
  },
  {
   "cell_type": "markdown",
   "id": "f83b1f46",
   "metadata": {},
   "source": [
    "## Selecionando features com Árvores de Decisão"
   ]
  },
  {
   "cell_type": "code",
   "execution_count": 19,
   "id": "417c24dd",
   "metadata": {},
   "outputs": [],
   "source": [
    "from sklearn.tree import DecisionTreeClassifier\n",
    "from sklearn.datasets import load_breast_cancer"
   ]
  },
  {
   "cell_type": "code",
   "execution_count": 20,
   "id": "f96aa115",
   "metadata": {},
   "outputs": [],
   "source": [
    "dt = DecisionTreeClassifier()"
   ]
  },
  {
   "cell_type": "code",
   "execution_count": 21,
   "id": "b19fb2f8",
   "metadata": {},
   "outputs": [],
   "source": [
    "X,y = load_breast_cancer (return_X_y = True)"
   ]
  },
  {
   "cell_type": "code",
   "execution_count": 22,
   "id": "f665092a",
   "metadata": {},
   "outputs": [
    {
     "data": {
      "text/plain": [
       "DecisionTreeClassifier()"
      ]
     },
     "execution_count": 22,
     "metadata": {},
     "output_type": "execute_result"
    }
   ],
   "source": [
    "dt.fit(X,y)"
   ]
  },
  {
   "cell_type": "code",
   "execution_count": 24,
   "id": "2aa4a80e",
   "metadata": {},
   "outputs": [
    {
     "data": {
      "text/plain": [
       "(569, 30)"
      ]
     },
     "execution_count": 24,
     "metadata": {},
     "output_type": "execute_result"
    }
   ],
   "source": [
    "X.shape"
   ]
  },
  {
   "cell_type": "code",
   "execution_count": 25,
   "id": "c84e5d35",
   "metadata": {},
   "outputs": [
    {
     "data": {
      "text/plain": [
       "array([0.        , 0.03120753, 0.        , 0.        , 0.00701689,\n",
       "       0.        , 0.        , 0.04061249, 0.        , 0.        ,\n",
       "       0.007316  , 0.        , 0.00563858, 0.00204521, 0.00664242,\n",
       "       0.        , 0.        , 0.        , 0.        , 0.00644409,\n",
       "       0.69559352, 0.05735376, 0.        , 0.0110859 , 0.00738798,\n",
       "       0.00583135, 0.00183582, 0.11398847, 0.        , 0.        ])"
      ]
     },
     "execution_count": 25,
     "metadata": {},
     "output_type": "execute_result"
    }
   ],
   "source": [
    "dt.feature_importances_"
   ]
  },
  {
   "cell_type": "code",
   "execution_count": null,
   "id": "b1ba5f03",
   "metadata": {},
   "outputs": [],
   "source": []
  }
 ],
 "metadata": {
  "kernelspec": {
   "display_name": "Python 3",
   "language": "python",
   "name": "python3"
  },
  "language_info": {
   "codemirror_mode": {
    "name": "ipython",
    "version": 3
   },
   "file_extension": ".py",
   "mimetype": "text/x-python",
   "name": "python",
   "nbconvert_exporter": "python",
   "pygments_lexer": "ipython3",
   "version": "3.8.8"
  }
 },
 "nbformat": 4,
 "nbformat_minor": 5
}
